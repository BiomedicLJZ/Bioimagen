{
 "cells": [
  {
   "cell_type": "code",
   "execution_count": 1,
   "metadata": {},
   "outputs": [],
   "source": [
    "import pydicom as dcm\n",
    "import numpy as np\n",
    "import matplotlib.pyplot as plt\n",
    "from mayavi import mlab\n",
    "import os\n",
    "import pandas as pd\n",
    "import tkinter as tk\n",
    "from tkinter import filedialog"
   ]
  },
  {
   "cell_type": "markdown",
   "metadata": {},
   "source": [
    "#Get the path of the folder containing the DICOM files\n",
    "root = tk.Tk()\n",
    "root.withdraw()\n",
    "path = filedialog.askdirectory()\n",
    "mascara = filedialog.askopenfilename()\n",
    "\n",
    "#Check if the path is valid\n",
    "if os.path.isdir(path):\n",
    "    print(\"Path is valid\")\n",
    "else:\n",
    "    print(\"Path is not valid\")\n",
    "    raise ValueError(\"Path is not valid\")\n",
    "\n",
    "#Check if the path is valid\n",
    "if os.path.isfile(mascara):\n",
    "    print(\"Path is valid\")\n",
    "else:\n",
    "    print(\"Path is not valid\")\n",
    "    raise ValueError(\"Path is not valid\")\n"
   ]
  },
  {
   "cell_type": "code",
   "execution_count": 4,
   "metadata": {},
   "outputs": [],
   "source": [
    "path =r\"D:\\Documentos\\CUCEI\\6t0\\Procesamiento\\images\\DICOM\\DICOM-20210818T133238Z-001\\DICOM\"\n",
    "mascara:['D:\\\\Documentos\\\\CUCEI\\\\6t0\\\\Procesamiento\\\\images\\\\DICOM…']=r\"D:\\Documentos\\CUCEI\\6t0\\Procesamiento\\images\\DICOM\\DICOM-20210818T133238Z-001\\mascaras\\mask.nrrd\""
   ]
  },
  {
   "cell_type": "code",
   "execution_count": 5,
   "metadata": {},
   "outputs": [
    {
     "ename": "FileNotFoundError",
     "evalue": "[WinError 3] The system cannot find the path specified: 'D:\\\\Documentos\\\\CUCEI\\\\6t0\\\\Procesamiento\\\\images\\\\DICOM\\\\DICOM-20210818T133238Z-001\\\\DICOM'",
     "output_type": "error",
     "traceback": [
      "\u001b[1;31m---------------------------------------------------------------------------\u001b[0m",
      "\u001b[1;31mFileNotFoundError\u001b[0m                         Traceback (most recent call last)",
      "Cell \u001b[1;32mIn[5], line 2\u001b[0m\n\u001b[0;32m      1\u001b[0m \u001b[39m# Read all files in folder\u001b[39;00m\n\u001b[1;32m----> 2\u001b[0m files \u001b[39m=\u001b[39m os\u001b[39m.\u001b[39;49mlistdir(path)\n\u001b[0;32m      3\u001b[0m \u001b[39m# Join the path with the name of the file\u001b[39;00m\n\u001b[0;32m      4\u001b[0m listed_files \u001b[39m=\u001b[39m [os\u001b[39m.\u001b[39mpath\u001b[39m.\u001b[39mjoin(path, file) \u001b[39mfor\u001b[39;00m file \u001b[39min\u001b[39;00m files]\n",
      "\u001b[1;31mFileNotFoundError\u001b[0m: [WinError 3] The system cannot find the path specified: 'D:\\\\Documentos\\\\CUCEI\\\\6t0\\\\Procesamiento\\\\images\\\\DICOM\\\\DICOM-20210818T133238Z-001\\\\DICOM'"
     ]
    }
   ],
   "source": [
    "# Read all files in folder\n",
    "files = os.listdir(path)\n",
    "# Join the path with the name of the file\n",
    "listed_files = [os.path.join(path, file) for file in files]"
   ]
  },
  {
   "cell_type": "code",
   "execution_count": 6,
   "metadata": {},
   "outputs": [
    {
     "ename": "NameError",
     "evalue": "name 'listed_files' is not defined",
     "output_type": "error",
     "traceback": [
      "\u001b[1;31m---------------------------------------------------------------------------\u001b[0m",
      "\u001b[1;31mNameError\u001b[0m                                 Traceback (most recent call last)",
      "Cell \u001b[1;32mIn[6], line 2\u001b[0m\n\u001b[0;32m      1\u001b[0m \u001b[39m# Sort the files by InstanceNumber\u001b[39;00m\n\u001b[1;32m----> 2\u001b[0m \u001b[39msorted\u001b[39m \u001b[39m=\u001b[39m listed_files\u001b[39m.\u001b[39msort(key\u001b[39m=\u001b[39m\u001b[39mlambda\u001b[39;00m x: \u001b[39mint\u001b[39m(dcm\u001b[39m.\u001b[39mread_file(x)\u001b[39m.\u001b[39mget(\u001b[39m'\u001b[39m\u001b[39mInstanceNumber\u001b[39m\u001b[39m'\u001b[39m, \u001b[39m0\u001b[39m))) \n",
      "\u001b[1;31mNameError\u001b[0m: name 'listed_files' is not defined"
     ]
    }
   ],
   "source": [
    "# Sort the files by InstanceNumber\n",
    "sorted = listed_files.sort(key=lambda x: int(dcm.read_file(x).get('InstanceNumber', 0))) \n"
   ]
  },
  {
   "cell_type": "code",
   "execution_count": null,
   "metadata": {},
   "outputs": [],
   "source": [
    "#Get image size\n",
    "rows = int(dcm.read_file(listed_files[0]).Rows)\n",
    "cols = int(dcm.read_file(listed_files[0]).Columns)\n",
    "slices = len(listed_files)"
   ]
  },
  {
   "cell_type": "code",
   "execution_count": null,
   "metadata": {},
   "outputs": [],
   "source": [
    "#Create a numpy array with the size of the image\n",
    "image = np.zeros([rows, cols, slices])"
   ]
  },
  {
   "cell_type": "code",
   "execution_count": null,
   "metadata": {},
   "outputs": [],
   "source": [
    "#Read the files and store them in the numpy array ordered by InstanceNumber\n",
    "image = np.stack([dcm.read_file(file).pixel_array for file in listed_files], axis=2)"
   ]
  },
  {
   "cell_type": "code",
   "execution_count": null,
   "metadata": {},
   "outputs": [],
   "source": [
    "#Read nrrd mask\n",
    "import nrrd\n",
    "mask = nrrd.read(mascara)"
   ]
  },
  {
   "cell_type": "code",
   "execution_count": null,
   "metadata": {},
   "outputs": [],
   "source": [
    "#Get the mask \n",
    "mask = mask[0]"
   ]
  },
  {
   "cell_type": "code",
   "execution_count": null,
   "metadata": {},
   "outputs": [],
   "source": [
    "#Flip the mask to match the image\n",
    "image = np.flip(image, axis=2)"
   ]
  },
  {
   "cell_type": "code",
   "execution_count": null,
   "metadata": {},
   "outputs": [],
   "source": [
    "#Convert image to Hounsfield Units\n",
    "HUimage = image * dcm.read_file(listed_files[0]).RescaleSlope + dcm.read_file(listed_files[0]).RescaleIntercept"
   ]
  },
  {
   "cell_type": "code",
   "execution_count": null,
   "metadata": {},
   "outputs": [],
   "source": [
    "#Eliminate the values abovve 400 HU\n",
    "HUimage[HUimage < -100] = 0"
   ]
  },
  {
   "cell_type": "code",
   "execution_count": null,
   "metadata": {},
   "outputs": [],
   "source": [
    "#Normalize image from 0 to 100 \n",
    "Norm_image = (HUimage - np.min(HUimage)) / (np.max(HUimage) - np.min(HUimage)) * 100"
   ]
  },
  {
   "cell_type": "code",
   "execution_count": null,
   "metadata": {},
   "outputs": [],
   "source": [
    "#For each pixel in the mask with value 1, set the value of the image to 255\n",
    "for i in range(0, mask.shape[0]):\n",
    "    for j in range(0, mask.shape[1]):\n",
    "        for k in range(0, mask.shape[2]):\n",
    "            if mask[i,j,k] == 1:\n",
    "                Norm_image[i,j,k] = 255"
   ]
  },
  {
   "cell_type": "code",
   "execution_count": null,
   "metadata": {},
   "outputs": [],
   "source": [
    "#Apply mask as a filter\n",
    "masked = Norm_image"
   ]
  },
  {
   "cell_type": "code",
   "execution_count": 29,
   "metadata": {},
   "outputs": [],
   "source": [
    "#Create a Max intensity projection\n",
    "mlab.figure(bgcolor=(0, 0, 0), size=(800, 800))\n",
    "mlab.contour3d(HUimage, contours=10, transparent=True, opacity=0.5)\n",
    "mlab.outline()\n",
    "mlab.axes()\n",
    "mlab.show()"
   ]
  },
  {
   "cell_type": "code",
   "execution_count": null,
   "metadata": {},
   "outputs": [],
   "source": [
    "mlab.figure(bgcolor=(0, 0, 0), size=(800, 800))\n",
    "vol = mlab.pipeline.scalar_field(HUimage)\n",
    "mlab.pipeline.volume(vol, vmin=0)\n",
    "mlab.show()"
   ]
  }
 ],
 "metadata": {
  "kernelspec": {
   "display_name": "CUCEI",
   "language": "python",
   "name": "python3"
  },
  "language_info": {
   "codemirror_mode": {
    "name": "ipython",
    "version": 3
   },
   "file_extension": ".py",
   "mimetype": "text/x-python",
   "name": "python",
   "nbconvert_exporter": "python",
   "pygments_lexer": "ipython3",
   "version": "3.11.0"
  },
  "orig_nbformat": 4,
  "vscode": {
   "interpreter": {
    "hash": "2df48a2c46bc207a8e8683010a9b5b2f00ba0e9c7dcac27f20aac6a2e3ee5825"
   }
  }
 },
 "nbformat": 4,
 "nbformat_minor": 2
}
