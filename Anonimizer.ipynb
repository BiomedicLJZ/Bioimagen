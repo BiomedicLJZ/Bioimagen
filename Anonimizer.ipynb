{
 "cells": [
  {
   "cell_type": "code",
   "execution_count": 3,
   "metadata": {
    "collapsed": true,
    "pycharm": {
     "name": "#%%\n"
    }
   },
   "outputs": [],
   "source": [
    "import pydicom\n",
    "import tkinter as Tk\n",
    "import tkinter.filedialog as tkFileDialog\n",
    "import os\n",
    "import numpy as np\n",
    "import matplotlib.pyplot as plt\n",
    "import matplotlib.image as mpimg\n",
    "import tqdm\n",
    "import tkinter.ttk as ttk"
   ]
  },
  {
   "cell_type": "code",
   "execution_count": 4,
   "outputs": [],
   "source": [
    "def get_folder():\n",
    "    root = Tk.Tk()\n",
    "    root.withdraw()\n",
    "    folder_selected = tkFileDialog.askdirectory()\n",
    "    return folder_selected"
   ],
   "metadata": {
    "collapsed": false,
    "pycharm": {
     "name": "#%%\n"
    }
   }
  },
  {
   "cell_type": "code",
   "execution_count": 5,
   "outputs": [],
   "source": [
    "#Get all files in folder in a list independent of extension\n",
    "def get_files(folder):\n",
    "    files = []\n",
    "    for file in os.listdir(folder):\n",
    "        files.append(file)\n",
    "    return files"
   ],
   "metadata": {
    "collapsed": false,
    "pycharm": {
     "name": "#%%\n"
    }
   }
  },
  {
   "cell_type": "code",
   "execution_count": 6,
   "outputs": [],
   "source": [
    "#Concat the original folder path with all the files in the folder\n",
    "def get_full_path():\n",
    "    folder = get_folder()\n",
    "    files = get_files(folder)\n",
    "    full_path = []\n",
    "    for file in files:\n",
    "        full_path.append(folder + '/' + file)\n",
    "    return full_path"
   ],
   "metadata": {
    "collapsed": false,
    "pycharm": {
     "name": "#%%\n"
    }
   }
  },
  {
   "cell_type": "code",
   "execution_count": 7,
   "outputs": [],
   "source": [
    "#Print all metadata of a DICOM file\n",
    "def print_metadata(file):\n",
    "    ds = pydicom.dcmread(file)\n",
    "    print(ds)"
   ],
   "metadata": {
    "collapsed": false,
    "pycharm": {
     "name": "#%%\n"
    }
   }
  },
  {
   "cell_type": "code",
   "execution_count": 8,
   "outputs": [],
   "source": [
    "#Print all metadata of a DICOM file\n",
    "def print_metadata(file):\n",
    "    ds = pydicom.dcmread(file)\n",
    "    print(ds)"
   ],
   "metadata": {
    "collapsed": false,
    "pycharm": {
     "name": "#%%\n"
    }
   }
  },
  {
   "cell_type": "code",
   "execution_count": 9,
   "outputs": [],
   "source": [
    "#Define a funcion to overwrite all files in a folder and name then with the same name as the original file + \"Anonymized\"\n",
    "def overwrite_dicom():\n",
    "    files = get_full_path()\n",
    "    #Create a folder to store the anonymized files\n",
    "    os.mkdir('Anonymized')\n",
    "    for file in tqdm.tqdm(files):\n",
    "        ds = pydicom.dcmread(file)\n",
    "        #Delete Sensitive Metadata\n",
    "        ds.PatientName = 'REDACTED'\n",
    "        ds.PatientID = 'REDACTED'\n",
    "        ds.PatientBirthDate = ds.PatientBirthDate[0:4]\n",
    "        ds.StudyID = 'REDACTED'\n",
    "        ds.StudyInstanceUID = 'REDACTED'\n",
    "        ds.SeriesInstanceUID = 'REDACTED'\n",
    "        ds.StudyDescription = 'REDACTED'\n",
    "        ds.SeriesDescription = 'REDACTED'\n",
    "        ds.AccessionNumber = 'REDACTED'\n",
    "        ds.InstitutionName = 'REDACTED'\n",
    "        ds.ReferringPhysicianName = 'REDACTED'\n",
    "        ds.StationName = 'REDACTED'\n",
    "        ds.InstitutionAddress = 'REDACTED'\n",
    "        ds.InstitutionalDepartmentName = 'REDACTED'\n",
    "        ds.PerformingPhysicianName = 'REDACTED'\n",
    "        ds.NameOfPhysiciansReadingStudy = 'REDACTED'\n",
    "        ds.OperatorName = 'REDACTED'\n",
    "        ds.Manufacturer = 'REDACTED'\n",
    "        ds.ManufacturerModelName = 'REDACTED'\n",
    "        ds.DeviceSerialNumber = 'REDACTED'\n",
    "        ds.SoftwareVersions = 'REDACTED'\n",
    "        ds.ProtocolName = 'REDACTED'\n",
    "        ds.PhysiciansOfRecord = 'REDACTED'\n",
    "        ds.PhysiciansReadingStudy = 'REDACTED'\n",
    "        ds.AdmittingDiagnosesDescription = 'REDACTED'\n",
    "        ds.SeriesNumber = 'REDACTED'\n",
    "        ds.SeriesDate = ds.SeriesDate[0:4]\n",
    "        ds.SeriesTime = ds.SeriesTime[0:4]\n",
    "        ds.AcquisitionDate = ds.AcquisitionDate[0:4]\n",
    "        ds.AcquisitionTime = ds.AcquisitionTime[0:4]\n",
    "        ds.ContentDate = ds.ContentDate[0:4]\n",
    "        ds.ContentTime = ds.ContentTime[0:4]\n",
    "        ds.AcquisitionNumber = 'REDACTED'\n",
    "        ds.InstanceNumber = 'REDACTED'\n",
    "        ds.OtherPatientIDs = 'REDACTED'\n",
    "        ds.OtherPatientNames = 'REDACTED'\n",
    "        ds.StudyInstanceUID = 'REDACTED'\n",
    "        ds.SeriesInstanceUID = 'REDACTED'\n",
    "        ds.SOPInstanceUID = 'REDACTED'\n",
    "        ds.SOPClassUID = 'REDACTED'\n",
    "        ds.PerformedProcedureStepStartDate = ds.PerformedProcedureStepStartDate[0:4]\n",
    "        ds.PerformedProcedureStepStartTime = ds.PerformedProcedureStepStartTime[0:4]\n",
    "        ds.PerformedProcedureStepEndDate = ds.PerformedProcedureStepEndDate[0:4]\n",
    "        ds.PerformedProcedureStepEndTime = ds.PerformedProcedureStepEndTime[0:4]\n",
    "        ds.PerformedProcedureStepID = 'REDACTED'\n",
    "        ds.PerformedProcedureStepDescription = 'REDACTED'\n",
    "        ds.PerformedProtocolCodeSequence = 'REDACTED'\n",
    "        #Store the anonymized files in the Anonymized folder\n",
    "        ds.save_as(file.replace(file, f'{file}_Anonymized'))"
   ],
   "metadata": {
    "collapsed": false,
    "pycharm": {
     "name": "#%%\n"
    }
   }
  }
 ],
 "metadata": {
  "kernelspec": {
   "display_name": "Python 3",
   "language": "python",
   "name": "python3"
  },
  "language_info": {
   "codemirror_mode": {
    "name": "ipython",
    "version": 2
   },
   "file_extension": ".py",
   "mimetype": "text/x-python",
   "name": "python",
   "nbconvert_exporter": "python",
   "pygments_lexer": "ipython2",
   "version": "2.7.6"
  }
 },
 "nbformat": 4,
 "nbformat_minor": 0
}