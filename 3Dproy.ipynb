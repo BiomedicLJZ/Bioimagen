{
 "cells": [
  {
   "cell_type": "code",
   "execution_count": 1,
   "metadata": {
    "collapsed": false,
    "pycharm": {
     "name": "#%%\n"
    }
   },
   "outputs": [],
   "source": [
    "import numpy as np\n",
    "import matplotlib.pyplot as plt\n",
    "import pydicom\n",
    "import os\n",
    "import tkinter as tk\n",
    "from tkinter import filedialog\n",
    "from tkinter import *\n",
    "from tkinter import filedialog\n",
    "from tkinter import simpledialog\n",
    "from tkinter import messagebox\n",
    "from tkinter import ttk\n",
    "from mayavi import mlab"
   ]
  },
  {
   "cell_type": "code",
   "execution_count": 2,
   "metadata": {
    "collapsed": false,
    "pycharm": {
     "name": "#%%\n"
    }
   },
   "outputs": [],
   "source": [
    "#Define a function to select the data folder and return the path\n",
    "def select_folder():\n",
    "    root = tk.Tk()\n",
    "    root.withdraw()\n",
    "    folder_selected = tk.filedialog.askdirectory()\n",
    "    return folder_selected"
   ]
  },
  {
   "cell_type": "code",
   "execution_count": 3,
   "metadata": {
    "collapsed": false,
    "pycharm": {
     "name": "#%%\n"
    }
   },
   "outputs": [],
   "source": [
    "#Define a function to read the dicom files, order them by InstanceNumber and return a numpy array and the metadata of the files\n",
    "def read_dicom(folder):\n",
    "    files = os.listdir(folder)\n",
    "    files = [os.path.join(folder, file) for file in files]\n",
    "    files.sort(key=lambda x: int(pydicom.dcmread(x).InstanceNumber))\n",
    "    data = []\n",
    "    for file in files:\n",
    "        ds = pydicom.dcmread(os.path.join(folder, file))\n",
    "        data.append(ds.pixel_array)\n",
    "    ds = pydicom.dcmread(os.path.join(folder, files[0]))\n",
    "    slices = np.array(data)\n",
    "    return slices, ds"
   ]
  },
  {
   "cell_type": "code",
   "execution_count": 4,
   "metadata": {
    "collapsed": false,
    "pycharm": {
     "name": "#%%\n"
    }
   },
   "outputs": [],
   "source": [
    "#Define a function to allow the user to select the HU for the tissue of interest\n",
    "def select_HU():\n",
    "    root = tk.Tk()\n",
    "    root.withdraw()\n",
    "    HU_selected = tk.simpledialog.askinteger(\"HU selection\", \"Select the HU for the tissue of interest\")\n",
    "    return HU_selected"
   ]
  },
  {
   "cell_type": "code",
   "execution_count": 5,
   "metadata": {
    "collapsed": false,
    "pycharm": {
     "name": "#%%\n"
    }
   },
   "outputs": [],
   "source": [
    "#Define a function to adjust the contrast of the image based on RescaleSlope and RescaleIntercept\n",
    "def adjust_contrast(slices,ds):\n",
    "    intercept = ds.RescaleIntercept\n",
    "    slope = ds.RescaleSlope\n",
    "    ct = slices * slope + intercept\n",
    "    return ct"
   ]
  },
  {
   "cell_type": "code",
   "execution_count": 6,
   "metadata": {
    "collapsed": false,
    "pycharm": {
     "name": "#%%\n"
    }
   },
   "outputs": [],
   "source": [
    "#Define a function to keep only the pixels above the HU selected by the user and normalize the image\n",
    "def normalize_image(ct, HU):\n",
    "    ct[ct < HU] = 0\n",
    "    ct = ct - np.min(ct)\n",
    "    ct = ct / np.max(ct)\n",
    "    return ct"
   ]
  },
  {
   "cell_type": "code",
   "execution_count": 7,
   "metadata": {
    "collapsed": false,
    "pycharm": {
     "name": "#%%\n"
    }
   },
   "outputs": [],
   "source": [
    "#Plot 3 random slices of the image\n",
    "def plot_slices(ct):\n",
    "    plt.figure()\n",
    "    plt.subplot(1,3,1)\n",
    "    plt.imshow(ct[int(ct.shape[0]/3),:,:], cmap = 'gray')\n",
    "    plt.subplot(1,3,2)\n",
    "    plt.imshow(ct[int(ct.shape[0]/2),:,:], cmap = 'gray')\n",
    "    plt.subplot(1,3,3)\n",
    "    plt.imshow(ct[int(ct.shape[0]*2/3),:,:], cmap = 'gray')\n",
    "    plt.show()"
   ]
  },
  {
   "cell_type": "code",
   "execution_count": 8,
   "metadata": {
    "collapsed": false,
    "pycharm": {
     "name": "#%%\n"
    }
   },
   "outputs": [],
   "source": [
    "#Create a 3D model of the images using the mayavi\n",
    "def plot_3D(ct):\n",
    "    mlab.figure(bgcolor=(0, 0, 0), size=(800, 800))\n",
    "    src = mlab.pipeline.scalar_field(ct)\n",
    "    mlab.pipeline.volume(src, vmin=0, vmax=1)\n",
    "    mlab.show()"
   ]
  },
  {
   "cell_type": "code",
   "execution_count": 9,
   "metadata": {
    "collapsed": false,
    "pycharm": {
     "name": "#%%\n"
    }
   },
   "outputs": [],
   "source": [
    "#Define a loop to allow the user to select multiple folders and create the 3D model\n",
    "def loop():\n",
    "    while True:\n",
    "        folder = select_folder()\n",
    "        slices, ds = read_dicom(folder)\n",
    "        ct = adjust_contrast(slices,ds)\n",
    "        HU = select_HU()\n",
    "        ct = normalize_image(ct, HU)\n",
    "        plot_3D(ct)\n",
    "        plot_slices(ct)\n",
    "        plt.show()\n",
    "        answer = input(\"Do you want to select another folder? (y/n)\")\n",
    "        if answer == 'n':\n",
    "            break"
   ]
  },
  {
   "cell_type": "code",
   "execution_count": null,
   "metadata": {
    "collapsed": false,
    "pycharm": {
     "name": "#%%\n"
    }
   },
   "outputs": [],
   "source": [
    "#Create a Tk App to allow the user to select the folder and the HU and show the results in a window\n",
    "class App(tk.Tk):\n",
    "    def __init__(self):\n",
    "        tk.Tk.__init__(self)\n",
    "        self.title(\"CT Viewer\")\n",
    "        self.geometry(\"800x600\")\n",
    "        self.folder = tk.StringVar()\n",
    "        self.HU = tk.StringVar()\n",
    "        self.folder_selected = tk.StringVar()\n",
    "        self.HU_selected = tk.StringVar()\n",
    "        self.folder_selected.set(\"No folder selected\")\n",
    "        self.HU_selected.set(\"No HU selected\")\n",
    "        self.folder_label = tk.Label(self, textvariable = self.folder_selected)\n",
    "        self.folder_label.pack()\n",
    "        self.HU_label = tk.Label(self, textvariable = self.HU_selected)\n",
    "        self.HU_label.pack()\n",
    "        self.folder_button = tk.Button(self, text = \"Select folder\", command = self.select_folder)\n",
    "        self.folder_button.pack()\n",
    "        self.HU_button = tk.Button(self, text = \"Select HU\", command = self.select_HU)\n",
    "        self.HU_button.pack()\n",
    "        self.plot_button = tk.Button(self, text = \"Plot\", command = self.plot)\n",
    "        self.plot_button.pack()\n",
    "        self.plot_3D_button = tk.Button(self, text = \"Plot 3D\", command = self.plot_3D)\n",
    "        self.plot_3D_button.pack()\n",
    "        self.quit_button = tk.Button(self, text = \"Quit\", command = self.quit)\n",
    "        self.quit_button.pack()\n",
    "    def select_folder(self):\n",
    "        self.folder_selected.set(select_folder())\n",
    "    def select_HU(self):\n",
    "        self.HU_selected.set(select_HU())\n",
    "    def plot(self):\n",
    "        slices, ds = read_dicom(self.folder_selected.get())\n",
    "        ct = adjust_contrast(slices,ds)\n",
    "        ct = normalize_image(ct, int(self.HU_selected.get()))\n",
    "        plot_slices(ct)\n",
    "    def plot_3D(self):\n",
    "        slices, ds = read_dicom(self.folder_selected.get())\n",
    "        ct = adjust_contrast(slices,ds)\n",
    "        ct = normalize_image(ct, int(self.HU_selected.get()))\n",
    "        plot_3D(ct)\n"
   ]
  },
  {
   "cell_type": "code",
   "execution_count": null,
   "metadata": {
    "collapsed": false,
    "pycharm": {
     "name": "#%%\n"
    }
   },
   "outputs": [],
   "source": [
    "app = App()"
   ]
  },
  {
   "cell_type": "code",
   "execution_count": null,
   "metadata": {
    "collapsed": false,
    "pycharm": {
     "name": "#%%\n"
    }
   },
   "outputs": [],
   "source": [
    "app.mainloop()"
   ]
  },
  {
   "cell_type": "code",
   "execution_count": 15,
   "metadata": {
    "collapsed": false,
    "pycharm": {
     "name": "#%%\n"
    }
   },
   "outputs": [],
   "source": [
    "app = App()"
   ]
  },
  {
   "cell_type": "code",
   "execution_count": 16,
   "metadata": {
    "collapsed": false,
    "pycharm": {
     "name": "#%%\n"
    }
   },
   "outputs": [],
   "source": [
    "app.mainloop()"
   ]
  },
  {
   "cell_type": "code",
   "execution_count": 10,
   "metadata": {},
   "outputs": [
    {
     "ename": "KeyboardInterrupt",
     "evalue": "",
     "output_type": "error",
     "traceback": [
      "\u001b[0;31m---------------------------------------------------------------------------\u001b[0m",
      "\u001b[0;31mKeyboardInterrupt\u001b[0m                         Traceback (most recent call last)",
      "Cell \u001b[0;32mIn[10], line 1\u001b[0m\n\u001b[0;32m----> 1\u001b[0m loop()\n",
      "Cell \u001b[0;32mIn[9], line 5\u001b[0m, in \u001b[0;36mloop\u001b[0;34m()\u001b[0m\n\u001b[1;32m      3\u001b[0m \u001b[39mwhile\u001b[39;00m \u001b[39mTrue\u001b[39;00m:\n\u001b[1;32m      4\u001b[0m     folder \u001b[39m=\u001b[39m select_folder()\n\u001b[0;32m----> 5\u001b[0m     slices, ds \u001b[39m=\u001b[39m read_dicom(folder)\n\u001b[1;32m      6\u001b[0m     ct \u001b[39m=\u001b[39m adjust_contrast(slices,ds)\n\u001b[1;32m      7\u001b[0m     HU \u001b[39m=\u001b[39m select_HU()\n",
      "Cell \u001b[0;32mIn[3], line 5\u001b[0m, in \u001b[0;36mread_dicom\u001b[0;34m(folder)\u001b[0m\n\u001b[1;32m      3\u001b[0m files \u001b[39m=\u001b[39m os\u001b[39m.\u001b[39mlistdir(folder)\n\u001b[1;32m      4\u001b[0m files \u001b[39m=\u001b[39m [os\u001b[39m.\u001b[39mpath\u001b[39m.\u001b[39mjoin(folder, file) \u001b[39mfor\u001b[39;00m file \u001b[39min\u001b[39;00m files]\n\u001b[0;32m----> 5\u001b[0m files\u001b[39m.\u001b[39;49msort(key\u001b[39m=\u001b[39;49m\u001b[39mlambda\u001b[39;49;00m x: \u001b[39mint\u001b[39;49m(pydicom\u001b[39m.\u001b[39;49mdcmread(x)\u001b[39m.\u001b[39;49mInstanceNumber))\n\u001b[1;32m      6\u001b[0m data \u001b[39m=\u001b[39m []\n\u001b[1;32m      7\u001b[0m \u001b[39mfor\u001b[39;00m file \u001b[39min\u001b[39;00m files:\n",
      "Cell \u001b[0;32mIn[3], line 5\u001b[0m, in \u001b[0;36mread_dicom.<locals>.<lambda>\u001b[0;34m(x)\u001b[0m\n\u001b[1;32m      3\u001b[0m files \u001b[39m=\u001b[39m os\u001b[39m.\u001b[39mlistdir(folder)\n\u001b[1;32m      4\u001b[0m files \u001b[39m=\u001b[39m [os\u001b[39m.\u001b[39mpath\u001b[39m.\u001b[39mjoin(folder, file) \u001b[39mfor\u001b[39;00m file \u001b[39min\u001b[39;00m files]\n\u001b[0;32m----> 5\u001b[0m files\u001b[39m.\u001b[39msort(key\u001b[39m=\u001b[39m\u001b[39mlambda\u001b[39;00m x: \u001b[39mint\u001b[39m(pydicom\u001b[39m.\u001b[39;49mdcmread(x)\u001b[39m.\u001b[39mInstanceNumber))\n\u001b[1;32m      6\u001b[0m data \u001b[39m=\u001b[39m []\n\u001b[1;32m      7\u001b[0m \u001b[39mfor\u001b[39;00m file \u001b[39min\u001b[39;00m files:\n",
      "File \u001b[0;32m~/anaconda3/envs/CUCEI_wsl/lib/python3.10/site-packages/pydicom/filereader.py:1021\u001b[0m, in \u001b[0;36mdcmread\u001b[0;34m(fp, defer_size, stop_before_pixels, force, specific_tags)\u001b[0m\n\u001b[1;32m   1019\u001b[0m     stop_when \u001b[39m=\u001b[39m _at_pixel_data\n\u001b[1;32m   1020\u001b[0m \u001b[39mtry\u001b[39;00m:\n\u001b[0;32m-> 1021\u001b[0m     dataset \u001b[39m=\u001b[39m read_partial(\n\u001b[1;32m   1022\u001b[0m         fp,\n\u001b[1;32m   1023\u001b[0m         stop_when,\n\u001b[1;32m   1024\u001b[0m         defer_size\u001b[39m=\u001b[39;49msize_in_bytes(defer_size),\n\u001b[1;32m   1025\u001b[0m         force\u001b[39m=\u001b[39;49mforce,\n\u001b[1;32m   1026\u001b[0m         specific_tags\u001b[39m=\u001b[39;49mspecific_tags,\n\u001b[1;32m   1027\u001b[0m     )\n\u001b[1;32m   1028\u001b[0m \u001b[39mfinally\u001b[39;00m:\n\u001b[1;32m   1029\u001b[0m     \u001b[39mif\u001b[39;00m \u001b[39mnot\u001b[39;00m caller_owns_file:\n",
      "File \u001b[0;32m~/anaconda3/envs/CUCEI_wsl/lib/python3.10/site-packages/pydicom/filereader.py:852\u001b[0m, in \u001b[0;36mread_partial\u001b[0;34m(fileobj, stop_when, defer_size, force, specific_tags)\u001b[0m\n\u001b[1;32m    848\u001b[0m \u001b[39m# Try and decode the dataset\u001b[39;00m\n\u001b[1;32m    849\u001b[0m \u001b[39m#   By this point we should be at the start of the dataset and have\u001b[39;00m\n\u001b[1;32m    850\u001b[0m \u001b[39m#   the transfer syntax (whether read from the file meta or guessed at)\u001b[39;00m\n\u001b[1;32m    851\u001b[0m \u001b[39mtry\u001b[39;00m:\n\u001b[0;32m--> 852\u001b[0m     dataset \u001b[39m=\u001b[39m read_dataset(\n\u001b[1;32m    853\u001b[0m         fileobj,\n\u001b[1;32m    854\u001b[0m         is_implicit_VR,\n\u001b[1;32m    855\u001b[0m         is_little_endian,\n\u001b[1;32m    856\u001b[0m         stop_when\u001b[39m=\u001b[39;49mstop_when,\n\u001b[1;32m    857\u001b[0m         defer_size\u001b[39m=\u001b[39;49mdefer_size,\n\u001b[1;32m    858\u001b[0m         specific_tags\u001b[39m=\u001b[39;49mspecific_tags,\n\u001b[1;32m    859\u001b[0m     )\n\u001b[1;32m    860\u001b[0m \u001b[39mexcept\u001b[39;00m \u001b[39mEOFError\u001b[39;00m:\n\u001b[1;32m    861\u001b[0m     \u001b[39mif\u001b[39;00m config\u001b[39m.\u001b[39msettings\u001b[39m.\u001b[39mreading_validation_mode \u001b[39m==\u001b[39m config\u001b[39m.\u001b[39mRAISE:\n",
      "File \u001b[0;32m~/anaconda3/envs/CUCEI_wsl/lib/python3.10/site-packages/pydicom/filereader.py:427\u001b[0m, in \u001b[0;36mread_dataset\u001b[0;34m(fp, is_implicit_VR, is_little_endian, bytelength, stop_when, defer_size, parent_encoding, specific_tags, at_top_level)\u001b[0m\n\u001b[1;32m    425\u001b[0m \u001b[39mtry\u001b[39;00m:\n\u001b[1;32m    426\u001b[0m     \u001b[39mwhile\u001b[39;00m (bytelength \u001b[39mis\u001b[39;00m \u001b[39mNone\u001b[39;00m) \u001b[39mor\u001b[39;00m (fp\u001b[39m.\u001b[39mtell() \u001b[39m-\u001b[39m fp_start \u001b[39m<\u001b[39m bytelength):\n\u001b[0;32m--> 427\u001b[0m         raw_data_element \u001b[39m=\u001b[39m \u001b[39mnext\u001b[39;49m(de_gen)\n\u001b[1;32m    428\u001b[0m         \u001b[39m# Read data elements. Stop on some errors, but return what was read\u001b[39;00m\n\u001b[1;32m    429\u001b[0m         tag \u001b[39m=\u001b[39m raw_data_element\u001b[39m.\u001b[39mtag\n",
      "File \u001b[0;32m~/anaconda3/envs/CUCEI_wsl/lib/python3.10/site-packages/pydicom/filereader.py:207\u001b[0m, in \u001b[0;36mdata_element_generator\u001b[0;34m(fp, is_implicit_VR, is_little_endian, stop_when, defer_size, encoding, specific_tags)\u001b[0m\n\u001b[1;32m    204\u001b[0m     fp\u001b[39m.\u001b[39mseek(fp_tell() \u001b[39m+\u001b[39m length)\n\u001b[1;32m    205\u001b[0m \u001b[39melse\u001b[39;00m:\n\u001b[1;32m    206\u001b[0m     value \u001b[39m=\u001b[39m (\n\u001b[0;32m--> 207\u001b[0m         fp_read(length) \u001b[39mif\u001b[39;00m length \u001b[39m>\u001b[39m \u001b[39m0\u001b[39m\n\u001b[1;32m    208\u001b[0m         \u001b[39melse\u001b[39;00m cast(\n\u001b[1;32m    209\u001b[0m             Optional[\u001b[39mbytes\u001b[39m], empty_value_for_VR(vr, raw\u001b[39m=\u001b[39m\u001b[39mTrue\u001b[39;00m)\n\u001b[1;32m    210\u001b[0m         )\n\u001b[1;32m    211\u001b[0m     )\n\u001b[1;32m    212\u001b[0m     \u001b[39mif\u001b[39;00m debugging:\n\u001b[1;32m    213\u001b[0m         dotdot \u001b[39m=\u001b[39m \u001b[39m\"\u001b[39m\u001b[39m...\u001b[39m\u001b[39m\"\u001b[39m \u001b[39mif\u001b[39;00m length \u001b[39m>\u001b[39m \u001b[39m20\u001b[39m \u001b[39melse\u001b[39;00m \u001b[39m\"\u001b[39m\u001b[39m   \u001b[39m\u001b[39m\"\u001b[39m\n",
      "\u001b[0;31mKeyboardInterrupt\u001b[0m: "
     ]
    }
   ],
   "source": [
    "loop()"
   ]
  }
 ],
 "metadata": {
  "kernelspec": {
   "display_name": "base",
   "language": "python",
   "name": "python3"
  },
  "language_info": {
   "codemirror_mode": {
    "name": "ipython",
    "version": 3
   },
   "file_extension": ".py",
   "mimetype": "text/x-python",
   "name": "python",
   "nbconvert_exporter": "python",
   "pygments_lexer": "ipython3",
   "version": "3.9.13 (main, Aug 25 2022, 23:51:50) [MSC v.1916 64 bit (AMD64)]"
  },
  "vscode": {
   "interpreter": {
    "hash": "898017f8a229b4d4e4174c46009bf85672f90ab0ea80bb2cbbc5a0d7416d97d8"
   }
  }
 },
 "nbformat": 4,
 "nbformat_minor": 0
}
