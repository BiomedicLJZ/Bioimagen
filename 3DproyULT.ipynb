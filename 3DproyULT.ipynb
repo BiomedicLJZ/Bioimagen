{
 "cells": [
  {
   "cell_type": "code",
   "execution_count": 18,
   "metadata": {
    "collapsed": true,
    "pycharm": {
     "name": "#%%\n"
    }
   },
   "outputs": [],
   "source": [
    "import numpy as np\n",
    "import matplotlib.pyplot as plt\n",
    "import pydicom\n",
    "import os\n",
    "import tkinter as tk\n",
    "from tkinter import filedialog\n",
    "from mayavi import mlab"
   ]
  },
  {
   "cell_type": "code",
   "execution_count": 19,
   "metadata": {
    "collapsed": false,
    "pycharm": {
     "name": "#%%\n"
    }
   },
   "outputs": [],
   "source": [
    "#Define the function to request the user to select the folder containing the DICOM files\n",
    "def select_folder():\n",
    "    \"\"\"This function will open a window to select the folder containing the DICOM files\"\"\"\n",
    "    root = tk.Tk()\n",
    "    root.withdraw()\n",
    "    folder_selected = filedialog.askdirectory(title='Please select the folder containing the DICOM files',initialdir='C:/')\n",
    "    return folder_selected"
   ]
  },
  {
   "cell_type": "code",
   "execution_count": 20,
   "metadata": {
    "collapsed": false,
    "pycharm": {
     "name": "#%%\n"
    }
   },
   "outputs": [],
   "source": [
    "#Define the function to load the DICOM files orderthem by instance number and return the pixel array\n",
    "def load_dicom(path):\n",
    "    \"\"\"This function will load the DICOM files from the selected folder, order them by instance number and return the pixel array of the images with some adjustments in contrast and spacing\"\"\"\n",
    "    #Load the DICOM files\n",
    "    dicom_files = [pydicom.dcmread(os.path.join(path, file)) for file in os.listdir(path)]\n",
    "    #Order the DICOM files by instance number\n",
    "    dicom_files.sort(key=lambda x: int(x.InstanceNumber))\n",
    "    #Get rescale slope and intercept\n",
    "    slope = dicom_files[0].RescaleSlope\n",
    "    intercept = dicom_files[0].RescaleIntercept\n",
    "    #Return the pixel array\n",
    "    image = np.stack([file.pixel_array for file in dicom_files])\n",
    "    image = image * slope + intercept\n",
    "    return image"
   ]
  },
  {
   "cell_type": "code",
   "execution_count": 21,
   "metadata": {
    "collapsed": false,
    "pycharm": {
     "name": "#%%\n"
    }
   },
   "outputs": [],
   "source": [
    "#Define the HU range of the tissues of interest\n",
    "def get_hu_range():\n",
    "    \"\"\"This function will return the HU range of the tissues of interest\"\"\"\n",
    "    min_hu = int(input('Enter the minimum HU value: '))\n",
    "    max_hu = int(input('Enter the maximum HU value: '))\n",
    "    return min_hu, max_hu"
   ]
  },
  {
   "cell_type": "code",
   "execution_count": 22,
   "metadata": {
    "collapsed": false,
    "pycharm": {
     "name": "#%%\n"
    }
   },
   "outputs": [],
   "source": [
    "#Define a function to keep only the pixels within the HU range of interest\n",
    "def keep_hu_range(image, min_hu, max_hu):\n",
    "    \"\"\"This function will keep only the pixels within the HU range of interest\"\"\"\n",
    "    image[image < min_hu] = 0\n",
    "    image[image > max_hu] = 0\n",
    "    return image"
   ]
  },
  {
   "cell_type": "code",
   "execution_count": 23,
   "metadata": {
    "collapsed": false,
    "pycharm": {
     "name": "#%%\n"
    }
   },
   "outputs": [],
   "source": [
    "#Define a function to normalize the image\n",
    "def normalize(image):\n",
    "    \"\"\"This function will normalize the image\"\"\"\n",
    "    image -= np.min(image)\n",
    "    image /= np.max(image)\n",
    "    return image"
   ]
  },
  {
   "cell_type": "code",
   "execution_count": 24,
   "metadata": {
    "collapsed": false,
    "pycharm": {
     "name": "#%%\n"
    }
   },
   "outputs": [],
   "source": [
    "#Define a function to plot the 20 slices of the image\n",
    "def plot_slices(image):\n",
    "    \"\"\"This function will plot the 20 slices of the image\"\"\"\n",
    "    plt.clf()\n",
    "    plt.cla()\n",
    "    plt.close()\n",
    "    fig, ax = plt.subplots(4, 5, figsize = (10, 10))\n",
    "    for i in range(4):\n",
    "        for j in range(5):\n",
    "            ax[i, j].imshow(image[5 * i + j], cmap = \"gray\")\n",
    "            ax[i, j].axis(\"off\")\n",
    "    plt.show()\n",
    "    plt.close()"
   ]
  },
  {
   "cell_type": "code",
   "execution_count": 25,
   "metadata": {
    "collapsed": false,
    "pycharm": {
     "name": "#%%\n"
    }
   },
   "outputs": [],
   "source": [
    "#Define a function to plot the 3D image using mayavi\n",
    "def plot_3d(image):\n",
    "    \"\"\"This function will plot the 3D image using mayavi to visualize the volume\"\"\"\n",
    "    mlab.figure(bgcolor=(0, 0, 0), size=(800, 800))\n",
    "    src = mlab.pipeline.scalar_field(image)\n",
    "    mlab.pipeline.volume(src, vmin=0, vmax=1)\n",
    "    mlab.show()"
   ]
  },
  {
   "cell_type": "code",
   "execution_count": 26,
   "metadata": {
    "collapsed": false,
    "pycharm": {
     "name": "#%%\n"
    }
   },
   "outputs": [],
   "source": [
    "#Define a function to create either a 3D contour, a 3D isosurface or a 3D volume selected by the user\n",
    "def plot_3d_multiple(image):\n",
    "    \"\"\"This function will create either a 3D contour, a 3D surface or a 3D volume selected by the user\"\"\"\n",
    "    #Select the type of plot\n",
    "    plot_type = int(input('Enter the number of the type of plot 1:Contour, 2:Isosurface, 3:Volume: '))\n",
    "    #Create the plot\n",
    "    if plot_type == 1:\n",
    "        mlab.figure(bgcolor=(0, 0, 0), size=(800, 800))\n",
    "        mlab.contour3d(image, contours=10, transparent=True)\n",
    "        mlab.show()\n",
    "    elif plot_type == 2:\n",
    "        #Create a smooth iso surface\n",
    "        mlab.figure(bgcolor=(0, 0, 0), size=(800, 800))\n",
    "        mlab.pipeline.iso_surface(mlab.pipeline.scalar_field(image), contours=[0.5], opacity=0.5,)\n",
    "        mlab.show()\n",
    "    elif plot_type == 3:\n",
    "        mlab.figure(bgcolor=(0, 0, 0), size=(800, 800))\n",
    "        src = mlab.pipeline.scalar_field(image)\n",
    "        mlab.pipeline.volume(src, vmin=0, vmax=1)\n",
    "        mlab.show()\n",
    "    else:\n",
    "        print('Invalid option')"
   ]
  },
  {
   "cell_type": "code",
   "execution_count": 27,
   "metadata": {
    "collapsed": false,
    "pycharm": {
     "name": "#%%\n"
    }
   },
   "outputs": [],
   "source": [
    "#Create a loop to allow the user to use the program multiple times\n",
    "while True:\n",
    "    #Request the user to select the folder containing the DICOM files\n",
    "    path = select_folder()\n",
    "    #Load the DICOM files\n",
    "    image = load_dicom(path)\n",
    "    #Request the user to select the HU range of interest\n",
    "    min_hu, max_hu = get_hu_range()\n",
    "    #Keep only the pixels within the HU range of interest\n",
    "    image = keep_hu_range(image, min_hu, max_hu)\n",
    "    #Normalize the image\n",
    "    image = normalize(image)\n",
    "    #Plot the 20 slices of the image\n",
    "    #plot_slices(image)\n",
    "    #Plot the 3D image using mayavi\n",
    "    plot_3d_multiple(image)\n",
    "    #Ask the user if he wants to use the program again\n",
    "    again = input(\"Do you want to use the program again? (y/n): \")\n",
    "    if again == \"n\":\n",
    "        break"
   ]
  },
  {
   "cell_type": "code",
   "execution_count": 28,
   "metadata": {
    "collapsed": false,
    "pycharm": {
     "name": "#%%\n"
    }
   },
   "outputs": [
    {
     "ename": "FileNotFoundError",
     "evalue": "[WinError 3] El sistema no puede encontrar la ruta especificada: ''",
     "output_type": "error",
     "traceback": [
      "\u001b[1;31m---------------------------------------------------------------------------\u001b[0m",
      "\u001b[1;31mFileNotFoundError\u001b[0m                         Traceback (most recent call last)",
      "Input \u001b[1;32mIn [28]\u001b[0m, in \u001b[0;36m<cell line: 2>\u001b[1;34m()\u001b[0m\n\u001b[0;32m      1\u001b[0m path\u001b[38;5;241m=\u001b[39mselect_folder()\n\u001b[1;32m----> 2\u001b[0m image,ds\u001b[38;5;241m=\u001b[39m\u001b[43mload_dicom\u001b[49m\u001b[43m(\u001b[49m\u001b[43mpath\u001b[49m\u001b[43m)\u001b[49m\n",
      "Input \u001b[1;32mIn [20]\u001b[0m, in \u001b[0;36mload_dicom\u001b[1;34m(path)\u001b[0m\n\u001b[0;32m      3\u001b[0m \u001b[38;5;124;03m\"\"\"This function will load the DICOM files from the selected folder, order them by instance number and return the pixel array of the images with some adjustments in contrast and spacing\"\"\"\u001b[39;00m\n\u001b[0;32m      4\u001b[0m \u001b[38;5;66;03m#Load the DICOM files\u001b[39;00m\n\u001b[1;32m----> 5\u001b[0m dicom_files \u001b[38;5;241m=\u001b[39m [pydicom\u001b[38;5;241m.\u001b[39mdcmread(os\u001b[38;5;241m.\u001b[39mpath\u001b[38;5;241m.\u001b[39mjoin(path, file)) \u001b[38;5;28;01mfor\u001b[39;00m file \u001b[38;5;129;01min\u001b[39;00m \u001b[43mos\u001b[49m\u001b[38;5;241;43m.\u001b[39;49m\u001b[43mlistdir\u001b[49m\u001b[43m(\u001b[49m\u001b[43mpath\u001b[49m\u001b[43m)\u001b[49m]\n\u001b[0;32m      6\u001b[0m \u001b[38;5;66;03m#Order the DICOM files by instance number\u001b[39;00m\n\u001b[0;32m      7\u001b[0m dicom_files\u001b[38;5;241m.\u001b[39msort(key\u001b[38;5;241m=\u001b[39m\u001b[38;5;28;01mlambda\u001b[39;00m x: \u001b[38;5;28mint\u001b[39m(x\u001b[38;5;241m.\u001b[39mInstanceNumber))\n",
      "\u001b[1;31mFileNotFoundError\u001b[0m: [WinError 3] El sistema no puede encontrar la ruta especificada: ''"
     ]
    }
   ],
   "source": [
    "path=select_folder()\n",
    "image,ds=load_dicom(path)"
   ]
  },
  {
   "cell_type": "code",
   "execution_count": null,
   "metadata": {
    "collapsed": false,
    "pycharm": {
     "name": "#%%\n"
    }
   },
   "outputs": [],
   "source": [
    "#Read instance number in path\n",
    "for archivo in os.listdir(path):\n",
    "    ds=pydicom.dcmread(os.path.join(path,archivo))\n",
    "    print(ds.InstanceNumber)"
   ]
  },
  {
   "cell_type": "code",
   "execution_count": 31,
   "metadata": {
    "collapsed": false,
    "pycharm": {
     "name": "#%%\n"
    }
   },
   "outputs": [],
   "source": [
    "#request the user to select one testfile\n",
    "root = tk.Tk()\n",
    "root.withdraw()\n",
    "file_selected = filedialog.askopenfilename(title='Please select the test file',initialdir='C:/')\n",
    "#Select control file\n",
    "file_selected2 = filedialog.askopenfilename(title='Please select the control file',initialdir='C:/')"
   ]
  },
  {
   "cell_type": "code",
   "execution_count": 32,
   "metadata": {
    "collapsed": false,
    "pycharm": {
     "name": "#%%\n"
    }
   },
   "outputs": [],
   "source": [
    "#Read the test file\n",
    "ds=pydicom.dcmread(file_selected)\n",
    "#Read the control file\n",
    "ds2=pydicom.dcmread(file_selected2)"
   ]
  },
  {
   "cell_type": "code",
   "execution_count": 35,
   "metadata": {
    "collapsed": false,
    "pycharm": {
     "name": "#%%\n"
    }
   },
   "outputs": [
    {
     "name": "stdout",
     "output_type": "stream",
     "text": [
      "Dataset.file_meta -------------------------------\n",
      "(0002, 0000) File Meta Information Group Length  UL: 226\n",
      "(0002, 0001) File Meta Information Version       OB: b'\\x00\\x01'\n",
      "(0002, 0002) Media Storage SOP Class UID         UI: CT Image Storage\n",
      "(0002, 0003) Media Storage SOP Instance UID      UI: 1.3.6.1.4.1.9590.100.1.2.365512055907325249631512387333731189448\n",
      "(0002, 0010) Transfer Syntax UID                 UI: Explicit VR Little Endian\n",
      "(0002, 0012) Implementation Class UID            UI: 1.3.6.1.4.1.9590.100.1.3.100.9.4\n",
      "(0002, 0013) Implementation Version Name         SH: 'MATLAB IPT 9.4'\n",
      "(0002, 0016) Source Application Entity Title     AE: 'bay83ct'\n",
      "-------------------------------------------------\n",
      "(0008, 0005) Specific Character Set              CS: 'ISO_IR 100'\n",
      "(0008, 0008) Image Type                          CS: ['ORIGINAL', 'PRIMARY', 'AXIAL']\n",
      "(0008, 0012) Instance Creation Date              DA: '20200313'\n",
      "(0008, 0013) Instance Creation Time              TM: '121735'\n",
      "(0008, 0016) SOP Class UID                       UI: CT Image Storage\n",
      "(0008, 0018) SOP Instance UID                    UI: 1.3.6.1.4.1.9590.100.1.2.365512055907325249631512387333731189448\n",
      "(0008, 0020) Study Date                          DA: '20200313'\n",
      "(0008, 0021) Series Date                         DA: '20200313'\n",
      "(0008, 0022) Acquisition Date                    DA: '20200313'\n",
      "(0008, 0023) Content Date                        DA: '20200313'\n",
      "(0008, 0030) Study Time                          TM: '121327'\n",
      "(0008, 0031) Series Time                         TM: '121556'\n",
      "(0008, 0032) Acquisition Time                    TM: '121613.389560'\n",
      "(0008, 0033) Content Time                        TM: '121735'\n",
      "(0008, 0050) Accession Number                    SH: ''\n",
      "(0008, 0060) Modality                            CS: 'CT'\n",
      "(0008, 0070) Manufacturer                        LO: 'GE MEDICAL SYSTEMS'\n",
      "(0008, 0080) Institution Name                    LO: 'CUCEI'\n",
      "(0008, 0090) Referring Physician's Name          PN: 'Perez^Teofilo'\n",
      "(0008, 1010) Station Name                        SH: 'Ing. Biomedica 2020A'\n",
      "(0008, 1030) Study Description                   LO: 'PET WB PSMA'\n",
      "(0008, 103e) Series Description                  LO: 'CT STD FUSION'\n",
      "(0008, 1050) Performing Physician's Name         PN: 'Hernandez^Chicharito'\n",
      "(0008, 1060) Name of Physician(s) Reading Study  PN: 'Caballero'\n",
      "(0008, 1070) Operators' Name                     PN: ''\n",
      "(0008, 1090) Manufacturer's Model Name           LO: 'Optima 560'\n",
      "(0008, 1140)  Referenced Image Sequence  1 item(s) ---- \n",
      "   (0008, 1150) Referenced SOP Class UID            UI: CT Image Storage\n",
      "   (0008, 1155) Referenced SOP Instance UID         UI: 1.2.840.113619.2.290.3.313287792.313.1584104958.700.2\n",
      "   ---------\n",
      "(0010, 0010) Patient's Name                      PN: 'Lopez^Perengano'\n",
      "(0010, 0020) Patient ID                          LO: '000003'\n",
      "(0010, 0030) Patient's Birth Date                DA: '19450113'\n",
      "(0010, 0040) Patient's Sex                       CS: 'M'\n",
      "(0010, 1000) Other Patient IDs                   LO: '0000029'\n",
      "(0010, 1010) Patient's Age                       AS: '075Y'\n",
      "(0010, 1020) Patient's Size                      DS: '1.78'\n",
      "(0010, 1030) Patient's Weight                    DS: '80.0'\n",
      "(0010, 21b0) Additional Patient History          LT: ''\n",
      "(0018, 0022) Scan Options                        CS: 'HELICAL MODE'\n",
      "(0018, 0050) Slice Thickness                     DS: '1.25'\n",
      "(0018, 0060) KVP                                 DS: '120.0'\n",
      "(0018, 0088) Spacing Between Slices              DS: '3.27'\n",
      "(0018, 0090) Data Collection Diameter            DS: '500.0'\n",
      "(0018, 1020) Software Versions                   LO: 'pet_mfk.56'\n",
      "(0018, 1030) Protocol Name                       LO: '10.7 PET/CT WB COLINA'\n",
      "(0018, 1100) Reconstruction Diameter             DS: '638.0'\n",
      "(0018, 1110) Distance Source to Detector         DS: '949.075'\n",
      "(0018, 1111) Distance Source to Patient          DS: '541.0'\n",
      "(0018, 1120) Gantry/Detector Tilt                DS: '0.0'\n",
      "(0018, 1130) Table Height                        DS: '110.0'\n",
      "(0018, 1140) Rotation Direction                  CS: 'CW'\n",
      "(0018, 1150) Exposure Time                       IS: '686'\n",
      "(0018, 1151) X-Ray Tube Current                  IS: '197'\n",
      "(0018, 1152) Exposure                            IS: '6'\n",
      "(0018, 1160) Filter Type                         SH: 'BODY FILTER'\n",
      "(0018, 1170) Generator Power                     IS: '52800'\n",
      "(0018, 1190) Focal Spot(s)                       DS: '1.2'\n",
      "(0018, 1210) Convolution Kernel                  SH: 'SOFT'\n",
      "(0018, 5100) Patient Position                    CS: 'HFS'\n",
      "(0018, 9305) Revolution Time                     FD: 0.5\n",
      "(0018, 9306) Single Collimation Width            FD: 1.25\n",
      "(0018, 9307) Total Collimation Width             FD: 20.0\n",
      "(0018, 9309) Table Speed                         FD: 37.5\n",
      "(0018, 9310) Table Feed per Rotation             FD: 18.75\n",
      "(0018, 9311) Spiral Pitch Factor                 FD: 0.9375\n",
      "(0020, 000d) Study Instance UID                  UI: 1.2.840.113619.2.290.3.313287792.313.1584104958.695\n",
      "(0020, 000e) Series Instance UID                 UI: 1.2.840.113619.2.290.3.313287792.313.1584104958.701.3\n",
      "(0020, 0010) Study ID                            SH: '0001'\n",
      "(0020, 0011) Series Number                       IS: '3'\n",
      "(0020, 0012) Acquisition Number                  IS: '1'\n",
      "(0020, 0013) Instance Number                     IS: '108'\n",
      "(0020, 0032) Image Position (Patient)            DS: [-319, -319, -4.25]\n",
      "(0020, 0037) Image Orientation (Patient)         DS: [1, 0, 0, 0, 1, 0]\n",
      "(0020, 0052) Frame of Reference UID              UI: 1.2.840.113619.2.290.3.313287792.313.1584104958.697.6115.1\n",
      "(0020, 1040) Position Reference Indicator        LO: 'OM'\n",
      "(0020, 1041) Slice Location                      DS: '-4.25'\n",
      "(0028, 0002) Samples per Pixel                   US: 1\n",
      "(0028, 0004) Photometric Interpretation          CS: 'MONOCHROME2'\n",
      "(0028, 0010) Rows                                US: 512\n",
      "(0028, 0011) Columns                             US: 512\n",
      "(0028, 0030) Pixel Spacing                       DS: [1.246094, 1.246094]\n",
      "(0028, 0100) Bits Allocated                      US: 16\n",
      "(0028, 0101) Bits Stored                         US: 16\n",
      "(0028, 0102) High Bit                            US: 15\n",
      "(0028, 0103) Pixel Representation                US: 1\n",
      "(0028, 0106) Smallest Image Pixel Value          SS: -2000\n",
      "(0028, 0107) Largest Image Pixel Value           SS: 4095\n",
      "(0028, 0120) Pixel Padding Value                 SS: -2000\n",
      "(0028, 1050) Window Center                       DS: '40.0'\n",
      "(0028, 1051) Window Width                        DS: '400.0'\n",
      "(0028, 1052) Rescale Intercept                   DS: '-1024.0'\n",
      "(0028, 1053) Rescale Slope                       DS: '1.0'\n",
      "(0028, 1054) Rescale Type                        LO: 'HU'\n",
      "(0040, 0244) Performed Procedure Step Start Date DA: '20200313'\n",
      "(0040, 0245) Performed Procedure Step Start Time TM: '121327'\n",
      "(0040, 0253) Performed Procedure Step ID         SH: 'PPS ID   5992'\n",
      "(0040, 0254) Performed Procedure Step Descriptio LO: 'PET WB PSMA'\n",
      "(7fe0, 0010) Pixel Data                          OW: Array of 524288 elements Dataset.file_meta -------------------------------\n",
      "(0002, 0000) File Meta Information Group Length  UL: 204\n",
      "(0002, 0001) File Meta Information Version       OB: b'\\x00\\x01'\n",
      "(0002, 0002) Media Storage SOP Class UID         UI: CT Image Storage\n",
      "(0002, 0003) Media Storage SOP Instance UID      UI: 1.2.840.113704.7.1.1.9144.1313088446.159\n",
      "(0002, 0010) Transfer Syntax UID                 UI: Explicit VR Little Endian\n",
      "(0002, 0012) Implementation Class UID            UI: 1.2.276.0.7230010.3.0.3.6.3\n",
      "(0002, 0013) Implementation Version Name         SH: 'OFFIS_DCMTK_363'\n",
      "(0002, 0016) Source Application Entity Title     AE: 'STENTOR_SCU'\n",
      "-------------------------------------------------\n",
      "(0008, 0008) Image Type                          CS: ['DERIVED', 'SECONDARY', 'MPR']\n",
      "(0008, 0013) Instance Creation Time              TM: '124726'\n",
      "(0008, 0016) SOP Class UID                       UI: CT Image Storage\n",
      "(0008, 0018) SOP Instance UID                    UI: 1.2.840.113704.7.1.1.9144.1313088446.159\n",
      "(0008, 0030) Study Time                          TM: '115113'\n",
      "(0008, 0032) Acquisition Time                    TM: '115358'\n",
      "(0008, 0033) Content Time                        TM: '115113'\n",
      "(0008, 0060) Modality                            CS: 'CT'\n",
      "(0008, 0070) Manufacturer                        LO: 'Philips'\n",
      "(0008, 0080) Institution Name                    LO: 'UNM OMI'\n",
      "(0008, 0081) Institution Address                 ST: '1101 CAMINO DE SALUD'\n",
      "(0008, 1010) Station Name                        SH: 'HOST-7510'\n",
      "(0008, 1030) Study Description                   LO: 'STANDARD HEAD/NECK/U-EXT'\n",
      "(0008, 1032)  Procedure Code Sequence  1 item(s) ---- \n",
      "   (0008, 0100) Code Value                          SH: 'STANDARD H'\n",
      "   (0008, 0104) Code Meaning                        LO: 'STANDARD HEAD/NECK GSW'\n",
      "   ---------\n",
      "(0008, 103e) Series Description                  LO: 'TRUE BRAIN'\n",
      "(0008, 1040) Institutional Department Name       LO: 'Radiology'\n",
      "(0008, 1090) Manufacturer's Model Name           LO: 'Brilliance Big Bore'\n",
      "(0008, 1140)  Referenced Image Sequence  2 item(s) ---- \n",
      "   (0008, 1150) Referenced SOP Class UID            UI: CT Image Storage\n",
      "   (0008, 1155) Referenced SOP Instance UID         UI: 1.2.840.113704.1.111.3864.1313085121.75415\n",
      "   ---------\n",
      "   (0008, 1150) Referenced SOP Class UID            UI: CT Image Storage\n",
      "   (0008, 1155) Referenced SOP Instance UID         UI: 1.2.840.113704.1.111.3864.1313085160.75416\n",
      "   ---------\n",
      "(0010, 0020) Patient ID                          LO: '100012'\n",
      "(0010, 0040) Patient's Sex                       CS: 'M'\n",
      "(0010, 1010) Patient's Age                       AS: '019Y'\n",
      "(0018, 0010) Contrast/Bolus Agent                LO: ''\n",
      "(0018, 0022) Scan Options                        CS: 'HELIX'\n",
      "(0018, 0050) Slice Thickness                     DS: '3.0'\n",
      "(0018, 0060) KVP                                 DS: '120.0'\n",
      "(0018, 0090) Data Collection Diameter            DS: '600.0'\n",
      "(0018, 1016) Secondary Capture Device Manufactur LO: 'Philips'\n",
      "(0018, 1018) Secondary Capture Device Manufactur LO: 'MxView'\n",
      "(0018, 1020) Software Versions                   LO: '2.3.5'\n",
      "(0018, 1030) Protocol Name                       LO: 'STD HEAD/NECK/U-EXT/Head'\n",
      "(0018, 1100) Reconstruction Diameter             DS: '250.0'\n",
      "(0018, 1120) Gantry/Detector Tilt                DS: '0.0'\n",
      "(0018, 1130) Table Height                        DS: '149.0'\n",
      "(0018, 1140) Rotation Direction                  CS: 'CW'\n",
      "(0018, 1151) X-Ray Tube Current                  IS: '170'\n",
      "(0018, 1152) Exposure                            IS: '300'\n",
      "(0018, 1160) Filter Type                         SH: 'UB'\n",
      "(0018, 1210) Convolution Kernel                  SH: 'UB'\n",
      "(0018, 5100) Patient Position                    CS: 'FFS'\n",
      "(0020, 000d) Study Instance UID                  UI: 1.2.840.113704.1.111.3056.1313080343.39\n",
      "(0020, 000e) Series Instance UID                 UI: 1.2.840.113704.7.1.1.9144.1313088446.1\n",
      "(0020, 0010) Study ID                            SH: '6055'\n",
      "(0020, 0011) Series Number                       IS: '80544'\n",
      "(0020, 0012) Acquisition Number                  IS: None\n",
      "(0020, 0013) Instance Number                     IS: '50'\n",
      "(0020, 0020) Patient Orientation                 CS: ''\n",
      "(0020, 0032) Image Position (Patient)            DS: [-117.209732, 85.5579424, 22.7416407]\n",
      "(0020, 0037) Image Orientation (Patient)         DS: [0.968655843, 0.241685795, 0.0573919308, -0.119790488, 0.656882756, -0.744416069]\n",
      "(0020, 0052) Frame of Reference UID              UI: 1.2.840.113704.1.111.6296.1313085085.4\n",
      "(0020, 1040) Position Reference Indicator        LO: ''\n",
      "(0020, 1041) Slice Location                      DS: '147.0'\n",
      "(0020, 4000) Image Comments                      LT: 'TRUE BRAIN'\n",
      "(0028, 0002) Samples per Pixel                   US: 1\n",
      "(0028, 0004) Photometric Interpretation          CS: 'MONOCHROME2'\n",
      "(0028, 0010) Rows                                US: 512\n",
      "(0028, 0011) Columns                             US: 512\n",
      "(0028, 0030) Pixel Spacing                       DS: [0.487327579, 0.487327579]\n",
      "(0028, 0100) Bits Allocated                      US: 16\n",
      "(0028, 0101) Bits Stored                         US: 12\n",
      "(0028, 0102) High Bit                            US: 11\n",
      "(0028, 0103) Pixel Representation                US: 0\n",
      "(0028, 1050) Window Center                       DS: [40, 40]\n",
      "(0028, 1051) Window Width                        DS: [80, 80]\n",
      "(0028, 1052) Rescale Intercept                   DS: '-1024.0'\n",
      "(0028, 1053) Rescale Slope                       DS: '1.0'\n",
      "(0040, 0012) Pre-Medication                      LO: ''\n",
      "(0040, 0253) Performed Procedure Step ID         SH: '605596'\n",
      "(0073, 0010) Private Creator                     LO: 'STENTOR'\n",
      "(0073, 1001) [Unknown]                           ST: 'unknown'\n",
      "(0073, 1002) [Private Creator]                   ST: '10.186.82.21'\n",
      "(0073, 1003) [Stentor Remote AETitle Element]    ST: 'OMI_BBTEMP'\n",
      "(0073, 1006) [Stentor Transfer Syntax Value]     LO: '1.2.840.10008.1.2.1'\n",
      "(00e1, 0010) Private Creator                     LO: 'ELSCINT1'\n",
      "(00e1, 1014) [Unknown]                           CS: 'N'\n",
      "(00e1, 1022) [Presentation Relative Center]      DS: [0, 0]\n",
      "(00e1, 1023) [Presentation Relative Part]        DS: [1, 1]\n",
      "(00e1, 1040) [Image Label]                       SH: 'TRUE BRAIN'\n",
      "(07a1, 0010) Private Creator                     LO: 'ELSCINT1'\n",
      "(07a1, 1010) [Tamar Software Version]            LO: '3.5'\n",
      "(7fe0, 0010) Pixel Data                          OW: Array of 524288 elements\n"
     ]
    }
   ],
   "source": [
    "print(ds,ds2)\n"
   ]
  },
  {
   "cell_type": "code",
   "execution_count": 43,
   "metadata": {
    "collapsed": false,
    "pycharm": {
     "name": "#%%\n"
    }
   },
   "outputs": [
    {
     "ename": "AttributeError",
     "evalue": "'FileDataset' object has no attribute 'PatientName'",
     "output_type": "error",
     "traceback": [
      "\u001b[1;31m---------------------------------------------------------------------------\u001b[0m",
      "\u001b[1;31mAttributeError\u001b[0m                            Traceback (most recent call last)",
      "Input \u001b[1;32mIn [43]\u001b[0m, in \u001b[0;36m<cell line: 5>\u001b[1;34m()\u001b[0m\n\u001b[0;32m      3\u001b[0m metadata_test \u001b[38;5;241m=\u001b[39m [ds\u001b[38;5;241m.\u001b[39mPatientName,ds\u001b[38;5;241m.\u001b[39mPatientID,ds\u001b[38;5;241m.\u001b[39mPatientBirthDate,ds\u001b[38;5;241m.\u001b[39mPatientSex,ds\u001b[38;5;241m.\u001b[39mStudyDate,ds\u001b[38;5;241m.\u001b[39mStudyTime,ds\u001b[38;5;241m.\u001b[39mStudyDescription,ds\u001b[38;5;241m.\u001b[39mSeriesDescription,ds\u001b[38;5;241m.\u001b[39mModality,ds\u001b[38;5;241m.\u001b[39mManufacturer,ds\u001b[38;5;241m.\u001b[39mInstitutionName,ds\u001b[38;5;241m.\u001b[39mStationName,ds\u001b[38;5;241m.\u001b[39mSliceThickness,ds\u001b[38;5;241m.\u001b[39mSliceLocation,ds\u001b[38;5;241m.\u001b[39mInstanceNumber,ds\u001b[38;5;241m.\u001b[39mImagePositionPatient,ds\u001b[38;5;241m.\u001b[39mImageOrientationPatient,ds\u001b[38;5;241m.\u001b[39mPixelSpacing,ds\u001b[38;5;241m.\u001b[39mWindowCenter,ds\u001b[38;5;241m.\u001b[39mWindowWidth,ds\u001b[38;5;241m.\u001b[39mRescaleIntercept,ds\u001b[38;5;241m.\u001b[39mRescaleSlope,ds\u001b[38;5;241m.\u001b[39mSamplesPerPixel,ds\u001b[38;5;241m.\u001b[39mPhotometricInterpretation,ds\u001b[38;5;241m.\u001b[39mRows,ds\u001b[38;5;241m.\u001b[39mColumns,ds\u001b[38;5;241m.\u001b[39mBitsAllocated,ds\u001b[38;5;241m.\u001b[39mBitsStored,ds\u001b[38;5;241m.\u001b[39mHighBit,ds\u001b[38;5;241m.\u001b[39mPixelRepresentation,ds\u001b[38;5;241m.\u001b[39mSmallestImagePixelValue,ds\u001b[38;5;241m.\u001b[39mLargestImagePixelValue,ds\u001b[38;5;241m.\u001b[39mPixelData]\n\u001b[0;32m      4\u001b[0m \u001b[38;5;66;03m#Create a list with the metadata of the control file\u001b[39;00m\n\u001b[1;32m----> 5\u001b[0m metadata_control \u001b[38;5;241m=\u001b[39m [\u001b[43mds2\u001b[49m\u001b[38;5;241;43m.\u001b[39;49m\u001b[43mPatientName\u001b[49m,ds2\u001b[38;5;241m.\u001b[39mPatientID,ds2\u001b[38;5;241m.\u001b[39mPatientBirthDate,ds2\u001b[38;5;241m.\u001b[39mPatientSex,ds2\u001b[38;5;241m.\u001b[39mStudyDate,ds2\u001b[38;5;241m.\u001b[39mStudyTime,ds2\u001b[38;5;241m.\u001b[39mStudyDescription,ds2\u001b[38;5;241m.\u001b[39mSeriesDescription,ds2\u001b[38;5;241m.\u001b[39mModality,ds2\u001b[38;5;241m.\u001b[39mManufacturer,ds2\u001b[38;5;241m.\u001b[39mInstitutionName,ds2\u001b[38;5;241m.\u001b[39mStationName,ds2\u001b[38;5;241m.\u001b[39mSliceThickness,ds2\u001b[38;5;241m.\u001b[39mSliceLocation,ds2\u001b[38;5;241m.\u001b[39mInstanceNumber,ds2\u001b[38;5;241m.\u001b[39mImagePositionPatient,ds2\u001b[38;5;241m.\u001b[39mImageOrientationPatient,ds2\u001b[38;5;241m.\u001b[39mPixelSpacing,ds2\u001b[38;5;241m.\u001b[39mWindowCenter,ds2\u001b[38;5;241m.\u001b[39mWindowWidth,ds2\u001b[38;5;241m.\u001b[39mRescaleIntercept,ds2\u001b[38;5;241m.\u001b[39mRescaleSlope,ds2\u001b[38;5;241m.\u001b[39mSamplesPerPixel,ds2\u001b[38;5;241m.\u001b[39mPhotometricInterpretation,ds2\u001b[38;5;241m.\u001b[39mRows,ds2\u001b[38;5;241m.\u001b[39mColumns,ds2\u001b[38;5;241m.\u001b[39mBitsAllocated,ds2\u001b[38;5;241m.\u001b[39mBitsStored,ds2\u001b[38;5;241m.\u001b[39mHighBit,ds2\u001b[38;5;241m.\u001b[39mPixelRepresentation,ds2\u001b[38;5;241m.\u001b[39mSmallestImagePixelValue,ds2\u001b[38;5;241m.\u001b[39mLargestImagePixelValue,ds2\u001b[38;5;241m.\u001b[39mPixelData]\n\u001b[0;32m      6\u001b[0m \u001b[38;5;66;03m#Create a list with the metadata names\u001b[39;00m\n\u001b[0;32m      7\u001b[0m metadata_names \u001b[38;5;241m=\u001b[39m [\u001b[38;5;124m'\u001b[39m\u001b[38;5;124mPatientName\u001b[39m\u001b[38;5;124m'\u001b[39m,\u001b[38;5;124m'\u001b[39m\u001b[38;5;124mPatientID\u001b[39m\u001b[38;5;124m'\u001b[39m,\u001b[38;5;124m'\u001b[39m\u001b[38;5;124mPatientBirthDate\u001b[39m\u001b[38;5;124m'\u001b[39m,\u001b[38;5;124m'\u001b[39m\u001b[38;5;124mPatientSex\u001b[39m\u001b[38;5;124m'\u001b[39m,\u001b[38;5;124m'\u001b[39m\u001b[38;5;124mStudyDate\u001b[39m\u001b[38;5;124m'\u001b[39m,\u001b[38;5;124m'\u001b[39m\u001b[38;5;124mStudyTime\u001b[39m\u001b[38;5;124m'\u001b[39m,\u001b[38;5;124m'\u001b[39m\u001b[38;5;124mStudyDescription\u001b[39m\u001b[38;5;124m'\u001b[39m,\u001b[38;5;124m'\u001b[39m\u001b[38;5;124mSeriesDescription\u001b[39m\u001b[38;5;124m'\u001b[39m,\u001b[38;5;124m'\u001b[39m\u001b[38;5;124mModality\u001b[39m\u001b[38;5;124m'\u001b[39m,\u001b[38;5;124m'\u001b[39m\u001b[38;5;124mManufacturer\u001b[39m\u001b[38;5;124m'\u001b[39m,\u001b[38;5;124m'\u001b[39m\u001b[38;5;124mInstitutionName\u001b[39m\u001b[38;5;124m'\u001b[39m,\u001b[38;5;124m'\u001b[39m\u001b[38;5;124mStationName\u001b[39m\u001b[38;5;124m'\u001b[39m,\u001b[38;5;124m'\u001b[39m\u001b[38;5;124mSliceThickness\u001b[39m\u001b[38;5;124m'\u001b[39m,\u001b[38;5;124m'\u001b[39m\u001b[38;5;124mSliceLocation\u001b[39m\u001b[38;5;124m'\u001b[39m,\u001b[38;5;124m'\u001b[39m\u001b[38;5;124mInstanceNumber\u001b[39m\u001b[38;5;124m'\u001b[39m,\u001b[38;5;124m'\u001b[39m\u001b[38;5;124mImagePositionPatient\u001b[39m\u001b[38;5;124m'\u001b[39m,\u001b[38;5;124m'\u001b[39m\u001b[38;5;124mImageOrientationPatient\u001b[39m\u001b[38;5;124m'\u001b[39m,\u001b[38;5;124m'\u001b[39m\u001b[38;5;124mPixelSpacing\u001b[39m\u001b[38;5;124m'\u001b[39m,\u001b[38;5;124m'\u001b[39m\u001b[38;5;124mWindowCenter\u001b[39m\u001b[38;5;124m'\u001b[39m,\u001b[38;5;124m'\u001b[39m\u001b[38;5;124mWindowWidth\u001b[39m\u001b[38;5;124m'\u001b[39m,\u001b[38;5;124m'\u001b[39m\u001b[38;5;124mRescaleIntercept\u001b[39m\u001b[38;5;124m'\u001b[39m,\u001b[38;5;124m'\u001b[39m\u001b[38;5;124mRescaleSlope\u001b[39m\u001b[38;5;124m'\u001b[39m,\u001b[38;5;124m'\u001b[39m\u001b[38;5;124mSamplesPerPixel\u001b[39m\u001b[38;5;124m'\u001b[39m,\u001b[38;5;124m'\u001b[39m\u001b[38;5;124mPhotometricInterpretation\u001b[39m\u001b[38;5;124m'\u001b[39m,\u001b[38;5;124m'\u001b[39m\u001b[38;5;124mRows\u001b[39m\u001b[38;5;124m'\u001b[39m,\u001b[38;5;124m'\u001b[39m\u001b[38;5;124mColumns\u001b[39m\u001b[38;5;124m'\u001b[39m,\u001b[38;5;124m'\u001b[39m\u001b[38;5;124mBitsAllocated\u001b[39m\u001b[38;5;124m'\u001b[39m,\u001b[38;5;124m'\u001b[39m\u001b[38;5;124mBitsStored\u001b[39m\u001b[38;5;124m'\u001b[39m,\u001b[38;5;124m'\u001b[39m\u001b[38;5;124mHighBit\u001b[39m\u001b[38;5;124m'\u001b[39m,\u001b[38;5;124m'\u001b[39m\u001b[38;5;124mPixelRepresentation\u001b[39m\u001b[38;5;124m'\u001b[39m,\u001b[38;5;124m'\u001b[39m\u001b[38;5;124mSmallestImagePixelValue\u001b[39m\u001b[38;5;124m'\u001b[39m,\u001b[38;5;124m'\u001b[39m\u001b[38;5;124mLargestImagePixelValue\u001b[39m\u001b[38;5;124m'\u001b[39m,\u001b[38;5;124m'\u001b[39m\u001b[38;5;124mPixelData\u001b[39m\u001b[38;5;124m'\u001b[39m]\n",
      "File \u001b[1;32m~\\anaconda3\\envs\\CUCEI\\lib\\site-packages\\pydicom\\dataset.py:834\u001b[0m, in \u001b[0;36mDataset.__getattr__\u001b[1;34m(self, name)\u001b[0m\n\u001b[0;32m    832\u001b[0m     \u001b[38;5;28;01mreturn\u001b[39;00m {}\n\u001b[0;32m    833\u001b[0m \u001b[38;5;66;03m# Try the base class attribute getter (fix for issue 332)\u001b[39;00m\n\u001b[1;32m--> 834\u001b[0m \u001b[38;5;28;01mreturn\u001b[39;00m \u001b[38;5;28;43mobject\u001b[39;49m\u001b[38;5;241;43m.\u001b[39;49m\u001b[38;5;21;43m__getattribute__\u001b[39;49m\u001b[43m(\u001b[49m\u001b[38;5;28;43mself\u001b[39;49m\u001b[43m,\u001b[49m\u001b[43m \u001b[49m\u001b[43mname\u001b[49m\u001b[43m)\u001b[49m\n",
      "\u001b[1;31mAttributeError\u001b[0m: 'FileDataset' object has no attribute 'PatientName'"
     ]
    }
   ],
   "source": [
    "#Compare the two metadata and show the differences between them in a table with pandas\n",
    "#Create a list with the metadata of the test file\n",
    "metadata_test = [ds.PatientName,ds.PatientID,ds.PatientBirthDate,ds.PatientSex,ds.StudyDate,ds.StudyTime,ds.StudyDescription,ds.SeriesDescription,ds.Modality,ds.Manufacturer,ds.InstitutionName,ds.StationName,ds.SliceThickness,ds.SliceLocation,ds.InstanceNumber,ds.ImagePositionPatient,ds.ImageOrientationPatient,ds.PixelSpacing,ds.WindowCenter,ds.WindowWidth,ds.RescaleIntercept,ds.RescaleSlope,ds.SamplesPerPixel,ds.PhotometricInterpretation,ds.Rows,ds.Columns,ds.BitsAllocated,ds.BitsStored,ds.HighBit,ds.PixelRepresentation,ds.SmallestImagePixelValue,ds.LargestImagePixelValue,ds.PixelData]\n",
    "#Create a list with the metadata of the control file\n",
    "metadata_control = [ds2.PatientName,ds2.PatientID,ds2.PatientBirthDate,ds2.PatientSex,ds2.StudyDate,ds2.StudyTime,ds2.StudyDescription,ds2.SeriesDescription,ds2.Modality,ds2.Manufacturer,ds2.InstitutionName,ds2.StationName,ds2.SliceThickness,ds2.SliceLocation,ds2.InstanceNumber,ds2.ImagePositionPatient,ds2.ImageOrientationPatient,ds2.PixelSpacing,ds2.WindowCenter,ds2.WindowWidth,ds2.RescaleIntercept,ds2.RescaleSlope,ds2.SamplesPerPixel,ds2.PhotometricInterpretation,ds2.Rows,ds2.Columns,ds2.BitsAllocated,ds2.BitsStored,ds2.HighBit,ds2.PixelRepresentation,ds2.SmallestImagePixelValue,ds2.LargestImagePixelValue,ds2.PixelData]\n",
    "#Create a list with the metadata names\n",
    "metadata_names = ['PatientName','PatientID','PatientBirthDate','PatientSex','StudyDate','StudyTime','StudyDescription','SeriesDescription','Modality','Manufacturer','InstitutionName','StationName','SliceThickness','SliceLocation','InstanceNumber','ImagePositionPatient','ImageOrientationPatient','PixelSpacing','WindowCenter','WindowWidth','RescaleIntercept','RescaleSlope','SamplesPerPixel','PhotometricInterpretation','Rows','Columns','BitsAllocated','BitsStored','HighBit','PixelRepresentation','SmallestImagePixelValue','LargestImagePixelValue','PixelData']\n",
    "#Create a dataframe with the metadata of the test file\n",
    "df_test = pd.DataFrame(metadata_test, index=metadata_names, columns=['Test'])\n",
    "#Create a dataframe with the metadata of the control file\n",
    "df_control = pd.DataFrame(metadata_control, index=metadata_names, columns=['Control'])\n",
    "#Create a dataframe with the differences between the metadata of the test file and the control file\n",
    "df_diff = pd.concat([df_test, df_control], axis=1, sort=False)\n",
    "df_diff['Difference'] = df_diff['Test'] != df_diff['Control']\n",
    "#Show the differences between the metadata of the test file and the control file\n",
    "df_diff"
   ]
  }
 ],
 "metadata": {
  "kernelspec": {
   "display_name": "base",
   "language": "python",
   "name": "python3"
  },
  "language_info": {
   "codemirror_mode": {
    "name": "ipython",
    "version": 2
   },
   "file_extension": ".py",
   "mimetype": "text/x-python",
   "name": "python",
   "nbconvert_exporter": "python",
   "pygments_lexer": "ipython2",
   "version": "3.9.13 (main, Aug 25 2022, 23:51:50) [MSC v.1916 64 bit (AMD64)]"
  },
  "vscode": {
   "interpreter": {
    "hash": "898017f8a229b4d4e4174c46009bf85672f90ab0ea80bb2cbbc5a0d7416d97d8"
   }
  }
 },
 "nbformat": 4,
 "nbformat_minor": 0
}
